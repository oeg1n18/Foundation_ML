{
 "cells": [
  {
   "cell_type": "code",
   "execution_count": 1,
   "metadata": {},
   "outputs": [],
   "source": [
    "import numpy as np\n",
    "import matplotlib.pyplot as plt\n",
    "from matplotlib import cm\n",
    "import jax.numpy as jnp\n",
    "from jax import grad\n",
    "from jax import random"
   ]
  },
  {
   "cell_type": "code",
   "execution_count": 4,
   "metadata": {},
   "outputs": [],
   "source": [
    "def softmax_prob_forloop(W, b, inputs):\n",
    "    # inputs is dim-by-datalen\n",
    "    # b is C-dimensional vector W is (C-by-dim)\n",
    "    dim, datalen = np.shape(inputs) # how many dimensions, points\n",
    "    c = len(b) # number of classes, C, each class has a bias\n",
    "    score = np.zeros((c, datalen))\n",
    "    for ci in range(c):\n",
    "        for lj in range(datalen):\n",
    "            score[ci, lj] = b[cj] \n",
    "            for dk in range(dim):\n",
    "                score[ci, lj] += W[ci, dk]*inputs[dk, lj]\n",
    "    maxes = np.zeros(datalen)\n",
    "    for lj in range(datalen):\n",
    "        maxes = np.max(score[:, lj])\n",
    "    for ci in range(c):\n",
    "        for lj in range(datalen):\n",
    "            score[ci, lj] = score[ci, lj] - maxes[lj]\n",
    "    # subtract off the largest score from the bias of each class\n",
    "    # This is for stability to underflow/overflow when exponentiating\n",
    "    expscore = np.exp(score)\n",
    "    norm_factor = np.diag(1/np.sum(expscore, axis=0))\n",
    "    return np.dot(expscore, norm_factor).T\n",
    "    "
   ]
  },
  {
   "cell_type": "code",
   "execution_count": 5,
   "metadata": {},
   "outputs": [],
   "source": [
    "def softmax_prob1(W, b, inputs):\n",
    "    # inputs is dim-by-datalen\n",
    "    # b is C-dimensional vector W is (C-by-dim)\n",
    "    # Make sure all numerical operations are from JAX, so 'jnp', not 'np'\n",
    "    datalen = jnp.shape(inputs)[1]\n",
    "    c = len(b)\n",
    "    linear_part = jnp.dot(W, inputs) #\n",
    "    large = jnp.max(linear_part, axis=0)\n",
    "    bias_offset = jnp.dot(jnp.diag(b),jnp.ones((c, datalen)))\n",
    "    large_offset = jnp.dot(np.ones((c, datalen)),jnp.diag(large)) \n",
    "    expscore = jnp.exp(linear_part + bias_offset - large_offset)\n",
    "    norm_factor = jnp.diag(1/jnp.sum(expscore, axis=0))\n",
    "    return jnp.dot(expscore, norm_factor).T"
   ]
  },
  {
   "cell_type": "code",
   "execution_count": 8,
   "metadata": {},
   "outputs": [],
   "source": [
    "def softmax_prob(W, inputs):\n",
    "    # output is datalen-by-C\n",
    "    # inputs is (dim)-by-datalen\n",
    "    # W is C-by-(dim+1)\n",
    "    # Make sure all numerical operations are from JAX, so 'jnp', not 'np'\n",
    "    datalen = jnp.shape(inputs)[1]\n",
    "    c = len(W)# number of classes, C, each class has a bias\n",
    "    inputs = jnp.concatenate((jnp.ones((1,datalen)), inputs), axis=0)\n",
    "    score = jnp.dot(W,inputs)\n",
    "    large = jnp.max(score, axis=0)\n",
    "    large_offset = jnp.dot(np.ones((c, datalen)),jnp.diag(large))\n",
    "    expscore = jnp.exp(score - large_offset)\n",
    "    norm_factor = jnp.diag(1/jnp.sum(expscore, axis=0))\n",
    "    return jnp.dot(expscore, norm_factor).T"
   ]
  },
  {
   "cell_type": "code",
   "execution_count": 9,
   "metadata": {},
   "outputs": [],
   "source": [
    "def softmax_xentropy(Wb, inputs, targets, num_classes):\n",
    "    epsilon = 1e-8\n",
    "    ys = get_one_hot(targets, num_classes)\n",
    "    logprobs = -jnp.log(softmax_prob(Wb, inputs)+epsilon)\n",
    "    return jnp.mean(ys*logprobs)"
   ]
  },
  {
   "cell_type": "code",
   "execution_count": 10,
   "metadata": {},
   "outputs": [],
   "source": [
    "def get_one_hot(targets, num_classes):\n",
    "    res = jnp.eye(num_classes)[jnp.array(targets).reshape(-1)]\n",
    "    return res.reshape(list(targets.shape)+[num_classes])"
   ]
  },
  {
   "cell_type": "code",
   "execution_count": 15,
   "metadata": {},
   "outputs": [],
   "source": [
    "Wb = jnp.array([[-3., 1.3, 2.0, -1.0], [-6., -2., -3., 1.5], [1., 2.0, 2.0, 2.5], [3., 4.0, 4.0, -2.5]])\n",
    "\n",
    "inputs = jnp.array([[0.52, 1.12, 0.77],\n",
    "    [3.82, -6.11, 3.15],\n",
    "    [0.88, -1.08, 0.15],\n",
    "    [0.52, 0.06, -1.30],\n",
    "    [0.74, -2.49, 1.39],\n",
    "    [0.14, -0.43, -1.69]]).T \n",
    "\n",
    "targets = jnp.array([0, 1, 3, 2, 1, 2])"
   ]
  },
  {
   "cell_type": "code",
   "execution_count": 17,
   "metadata": {},
   "outputs": [
    {
     "name": "stdout",
     "output_type": "stream",
     "text": [
      "[[ 0.20820066 -1.0580499  -0.29374585 -0.44117254]\n",
      " [ 0.2366984  -0.03426386 -1.0025561   1.1560111 ]\n",
      " [-0.5381381  -0.48968917  0.24939033 -1.4128867 ]\n",
      " [ 1.8543106   0.22756499  0.49751544 -2.089685  ]]\n"
     ]
    }
   ],
   "source": [
    "key = random.PRNGKey(0)\n",
    "key, W_key= random.split(key, 2)\n",
    "[classes, dim] = 4, 3\n",
    "Winit = random.normal(W_key, (classes, dim+1))\n",
    "print(Winit)"
   ]
  },
  {
   "cell_type": "code",
   "execution_count": 18,
   "metadata": {},
   "outputs": [],
   "source": [
    "def grad_descent(Wb, inputs, targets, num_classes, lrate, nsteps):\n",
    "    W1 = Wb\n",
    "    Whist = [W1]\n",
    "    losshist = [softmax_xentropy(W1,inputs, targets, num_classes )]\n",
    "    eta = lrate # learning rate\n",
    "    for i in range(nsteps):\n",
    "        gWb = grad(softmax_xentropy, (0))(W1, inputs, targets, num_classes)\n",
    "        W1 = W1 - eta*gWb\n",
    "        if (i%5 ==0):\n",
    "            Whist.append(W1)\n",
    "            losshist.append(softmax_xentropy(W1, inputs, targets, num_classes))\n",
    "    Whist.append(W1)\n",
    "    losshist.append(softmax_xentropy(W1, inputs, targets, num_classes))\n",
    "    return W1, Whist, losshist"
   ]
  },
  {
   "cell_type": "code",
   "execution_count": 19,
   "metadata": {},
   "outputs": [],
   "source": [
    "W2, Whist, losshist = grad_descent(Winit, inputs, targets, 4, 0.75, 200)"
   ]
  },
  {
   "cell_type": "code",
   "execution_count": 20,
   "metadata": {},
   "outputs": [
    {
     "data": {
      "text/plain": [
       "[<matplotlib.lines.Line2D at 0x7f80b8f32be0>]"
      ]
     },
     "execution_count": 20,
     "metadata": {},
     "output_type": "execute_result"
    },
    {
     "data": {
      "image/png": "[encoded data removed]",
      "text/plain": [
       "<Figure size 432x288 with 1 Axes>"
      ]
     },
     "metadata": {
      "needs_background": "light"
     },
     "output_type": "display_data"
    }
   ],
   "source": [
    "plt.plot([5*i for i in range(len(losshist))], losshist)"
   ]
  },
  {
   "cell_type": "code",
   "execution_count": null,
   "metadata": {},
   "outputs": [],
   "source": []
  },
  {
   "cell_type": "code",
   "execution_count": null,
   "metadata": {},
   "outputs": [],
   "source": []
  }
 ],
 "metadata": {
  "kernelspec": {
   "display_name": "tensorflow",
   "language": "python",
   "name": "tensorflow"
  },
  "language_info": {
   "codemirror_mode": {
    "name": "ipython",
    "version": 3
   },
   "file_extension": ".py",
   "mimetype": "text/x-python",
   "name": "python",
   "nbconvert_exporter": "python",
   "pygments_lexer": "ipython3",
   "version": "3.6.10"
  }
 },
 "nbformat": 4,
 "nbformat_minor": 4
}
