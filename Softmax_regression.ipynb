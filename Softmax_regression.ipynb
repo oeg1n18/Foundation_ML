{
 "cells": [
  {
   "cell_type": "code",
   "execution_count": 1,
   "metadata": {},
   "outputs": [],
   "source": [
    "import numpy as np\n",
    "import matplotlib.pyplot as plt\n",
    "from matplotlib import cm\n",
    "import jax.numpy as jnp\n",
    "from jax import grad\n",
    "from jax import random\n",
    "from sklearn import datasets"
   ]
  },
  {
   "cell_type": "code",
   "execution_count": 2,
   "metadata": {},
   "outputs": [],
   "source": [
    "def softmax_prob_forloop(W, b, inputs):\n",
    "    # dim is the number of features +1. The wieghts dimension \n",
    "    # datalen is the size of the number of inputs\n",
    "    # b is the C-dimensional (class) vector W is (c-by-dim)\n",
    "    dim, datalen - np.shape(inputs) \n",
    "    c = len(b) # number of classes\n",
    "    score = np.zeros((c, datalen)) # Creates an empty array with rows = to the number of \n",
    "    # classes and columns the size of the data\n",
    "    for ci in rance(c): # loops through the classes \n",
    "        for lj in range(datalen): # loops through the data points\n",
    "            score[ci, lj] = b[ci] # sets the score[class, datapoint] = b[ci] the class. This is the target\n",
    "            for dk in range(dim): # loops through features\n",
    "                score[ci, lj] += W[ci, dk] * inputs[dk, lj] # multiply the weights by features\n",
    "    maxes = np.zeros(datalen) # creates an array size of the datapoints to store the max class score. \n",
    "    \n",
    "    for lj in range(datalen): # for each data point \n",
    "        maxes[lj] = np.max(score[:, lj]) # take the class with the max score for each datapoint.\n",
    "    for ci in rance(c): # for each class \n",
    "        for lj in range(datalen): # for each datapoint\n",
    "            score[ci, lj] = score[ci, lj] - maxes[lj] # the score = the score - the max of all scores for that datapoint\n",
    "    \n",
    "    # subtract off the largest score from the bias of each class \n",
    "    # this is for stability to underflow/overflow when exponentiating \n",
    "    expscore = np.exp(score)\n",
    "    norm_factor = np.diag(1/np.sum(expscore, axis=0))\n",
    "    return np.dot(expscore, norm_factor).T\n"
   ]
  },
  {
   "cell_type": "code",
   "execution_count": 3,
   "metadata": {},
   "outputs": [],
   "source": [
    "def softmax_prob1(W, b, inputs): \n",
    "    # inputs is dim-b-datalen\n",
    "    # b is C-dimensional vector \n",
    "    # W is (C - by - dim)\n",
    "    # make sure all numerical operations are from JAX,\n",
    "    datalen = jnp.shape(inputs)[1]\n",
    "    c = len(b) # number of classes, C, each class has a bias\n",
    "    linear_part = jnp.dot(W, inputs) # (C-by-dim)*(dim-by-datalen) = C-by-datalen\n",
    "    large = jnp.max(linear_part, axis=0) # largest of the class scores for each datapoint\n",
    "    bias_offset = jnp.dot(jnp.diag(b), jnp.ones((c, datalen))) # (C-by-C)*(C-by-L)\n",
    "    # subtract off the largest score from the bias of each class for stability to underflow/overflow\n",
    "    large_offset = jnp.dot(np.ones((c, datalen)), jnp.diag(large)) # (C-by-L)*(L-by-L)\n",
    "    expscore = jnp.exp(linear_part + bias_offset - large_offset)\n",
    "    norm_factor = jnp.diag(1/jnp.sum(expscore, axis=0))\n",
    "    return jnp.dot(expscore, norm_factor).T"
   ]
  },
  {
   "cell_type": "code",
   "execution_count": 4,
   "metadata": {},
   "outputs": [],
   "source": [
    "def softmax_prob(W, inputs):\n",
    "    # output is datalen-by-C\n",
    "    # inputs is (dim)-by-datalen\n",
    "    # W is C-by-(dim+1)\n",
    "    # make sure all numerical operations are from JAX\n",
    "    datalen = jnp.shape(inputs)[1] # how many points \n",
    "    c = len(W) # number of classes, C, each class has a bias \n",
    "    inputs = jnp.concatenate((jnp.ones((1,datalen)), inputs), axis=0)\n",
    "    # create inputs (dim_1)-by-datalen\n",
    "    score = jnp.dot(W, inputs)\n",
    "    # (C-by-(1+dim)) * ((1+dim)-by-datalen) = C-by-datalen\n",
    "    large = jnp.max(score, axis=0) # largest of the class scores for each data point \n",
    "    large_offset = jnp.dot(np.ones((c, datalen)), jnp.diag(large)) # (C-by-L)*(L-by-L)\n",
    "    expscore = jnp.exp(score - large_offset)\n",
    "    norm_factor = jnp.diag(1/jnp.sum(expscore, axis=0))\n",
    "    return jnp.dot(expscore, norm_factor).T"
   ]
  },
  {
   "cell_type": "code",
   "execution_count": 5,
   "metadata": {},
   "outputs": [],
   "source": [
    "def softmax_xentropy(Wb, inputs, targets, num_classes):\n",
    "    epsilon = 1e-8\n",
    "    ys = get_one_hot(targets, num_classes)\n",
    "    logprobs = -jnp.log(softmax_prob(Wb, inputs)+epsilon)\n",
    "    return jnp.mean(ys*logprobs)"
   ]
  },
  {
   "cell_type": "code",
   "execution_count": 6,
   "metadata": {},
   "outputs": [],
   "source": [
    "def get_one_hot(targets, num_classes):\n",
    "    res = jnp.eye(num_classes)[jnp.array(targets).reshape(-1)]\n",
    "    return res.reshape(list(targets.shape)+[num_classes])"
   ]
  },
  {
   "cell_type": "code",
   "execution_count": 7,
   "metadata": {},
   "outputs": [
    {
     "name": "stderr",
     "output_type": "stream",
     "text": [
      "WARNING:absl:No GPU/TPU found, falling back to CPU. (Set TF_CPP_MIN_LOG_LEVEL=0 and rerun for more info.)\n"
     ]
    }
   ],
   "source": [
    "Wb = jnp.array([[-3., 1.3, 2.0, -1.0], [-6., -2., -3., 1.5], [1., 2.0, 2.0, 2.],[3., 4.0, 4.0, -2.5]])\n",
    "# Build a toy dataset: 6 3-dim points with C=4 targets dim-by-datalen\n",
    "inputs = jnp.array([[0.52, 1.12, 0.77],\n",
    "        [3.82, -6.11, 3.15],\n",
    "        [0.88, -1.08, 0.15],\n",
    "        [0.52, 0.06, -1.30],\n",
    "        [0.74, -2.49, 1.39],\n",
    "        [0.14, -0.43, -1.69]]).T # transpose to make it a␣,→dim-by-datalen array\n",
    "\n",
    "targets = jnp.array([0, 1, 3, 2, 1, 2])"
   ]
  },
  {
   "cell_type": "code",
   "execution_count": 8,
   "metadata": {},
   "outputs": [
    {
     "name": "stdout",
     "output_type": "stream",
     "text": [
      "[[ 0.20820066 -1.0580499  -0.29374585 -0.44117254]\n",
      " [ 0.2366984  -0.03426386 -1.0025561   1.1560111 ]\n",
      " [-0.5381381  -0.48968917  0.24939033 -1.4128867 ]\n",
      " [ 1.8543106   0.22756499  0.49751544 -2.089685  ]]\n"
     ]
    }
   ],
   "source": [
    "# Initialize random model coefficients \n",
    "key = random.PRNGKey(0)\n",
    "key, W_key = random.split(key, 2)\n",
    "[classes, dim] = 4,3\n",
    "Winit = random.normal(W_key, (classes, dim+1))\n",
    "print(Winit)"
   ]
  },
  {
   "cell_type": "markdown",
   "metadata": {},
   "source": [
    "# Automatic Differentiation used here "
   ]
  },
  {
   "cell_type": "code",
   "execution_count": 9,
   "metadata": {},
   "outputs": [],
   "source": [
    "def grad_descent(Wb, inputs, targets, num_classes, lrate, nsteps):\n",
    "    W1 = Wb\n",
    "    Whist = [W1]\n",
    "    losshist = [softmax_xentropy(W1,inputs, targets, num_classes )]\n",
    "    eta = lrate # learning rate\n",
    "    for i in range(nsteps):\n",
    "        gWb = grad(softmax_xentropy, (0))(W1, inputs, targets, num_classes)\n",
    "        W1 = W1 - eta*gWb\n",
    "        if (i%5 ==0):\n",
    "            Whist.append(W1)\n",
    "            losshist.append(softmax_xentropy(W1, inputs, targets, num_classes))\n",
    "            Whist.append(W1)\n",
    "            losshist.append(softmax_xentropy(W1, inputs, targets, num_classes))\n",
    "    return W1, Whist, losshist"
   ]
  },
  {
   "cell_type": "code",
   "execution_count": 10,
   "metadata": {},
   "outputs": [],
   "source": [
    "W2, Whist, losshist = grad_descent(Winit, inputs, targets, 4, 0.75, 400)"
   ]
  },
  {
   "cell_type": "code",
   "execution_count": 11,
   "metadata": {},
   "outputs": [
    {
     "data": {
      "text/plain": [
       "[<matplotlib.lines.Line2D at 0x7fe56070eac8>]"
      ]
     },
     "execution_count": 11,
     "metadata": {},
     "output_type": "execute_result"
    },
    {
     "data": {
      "image/png": "[encoded data removed]",
      "text/plain": [
       "<Figure size 432x288 with 1 Axes>"
      ]
     },
     "metadata": {
      "needs_background": "light"
     },
     "output_type": "display_data"
    }
   ],
   "source": [
    "plt.plot([5*i for i in range(len(losshist))], losshist)"
   ]
  },
  {
   "cell_type": "code",
   "execution_count": 12,
   "metadata": {},
   "outputs": [
    {
     "name": "stdout",
     "output_type": "stream",
     "text": [
      "From:\n",
      " [[0.09  0.243 0.05  0.618]\n",
      " [0.    1.    0.    0.   ]\n",
      " [0.073 0.507 0.028 0.392]\n",
      " [0.011 0.002 0.025 0.962]\n",
      " [0.008 0.99  0.    0.002]\n",
      " [0.013 0.001 0.028 0.957]]\n",
      "To:\n",
      " [[0.975 0.003 0.003 0.019]\n",
      " [0.    0.998 0.    0.002]\n",
      " [0.013 0.083 0.024 0.88 ]\n",
      " [0.002 0.    0.968 0.03 ]\n",
      " [0.    0.953 0.    0.047]\n",
      " [0.    0.    0.989 0.011]]\n",
      "Target:\n",
      " [[1. 0. 0. 0.]\n",
      " [0. 1. 0. 0.]\n",
      " [0. 0. 0. 1.]\n",
      " [0. 0. 1. 0.]\n",
      " [0. 1. 0. 0.]\n",
      " [0. 0. 1. 0.]]\n"
     ]
    }
   ],
   "source": [
    "print('From:\\n',np.around(softmax_prob(Winit, inputs),3))\n",
    "print('To:\\n',np.around(softmax_prob(W2, inputs),3))\n",
    "print('Target:\\n',get_one_hot(targets, 4))"
   ]
  },
  {
   "cell_type": "markdown",
   "metadata": {},
   "source": [
    "# My Turn "
   ]
  },
  {
   "cell_type": "code",
   "execution_count": 13,
   "metadata": {},
   "outputs": [
    {
     "name": "stdout",
     "output_type": "stream",
     "text": [
      "X shape (2, 150)\n",
      "y shape (150,)\n"
     ]
    }
   ],
   "source": [
    "iris = datasets.load_iris()\n",
    "X = iris.data[:, :2].T \n",
    "y = iris.target\n",
    "\n",
    "# inputs needs to be dim-by-datalen\n",
    "# W needs to be C-by-dim+1 \n",
    "print('X shape', X.shape)\n",
    "print('y shape', y.shape)\n"
   ]
  },
  {
   "cell_type": "code",
   "execution_count": 14,
   "metadata": {},
   "outputs": [
    {
     "name": "stdout",
     "output_type": "stream",
     "text": [
      "[[-0.38812616 -0.04487172 -2.0427265 ]\n",
      " [ 0.07932303 -0.04617051  0.79599744]\n",
      " [-1.4411981  -1.6929983  -0.37369213]]\n"
     ]
    }
   ],
   "source": [
    "\n",
    "# Initialize random model coefficients \n",
    "key = random.PRNGKey(0)\n",
    "key, W_key = random.split(key, 2)\n",
    "[classes, dim] = 3,2\n",
    "Winit = random.normal(W_key, (classes, dim+1))\n",
    "print(Winit)"
   ]
  },
  {
   "cell_type": "code",
   "execution_count": 15,
   "metadata": {},
   "outputs": [
    {
     "data": {
      "text/plain": [
       "[<matplotlib.lines.Line2D at 0x7fe5400e3e10>]"
      ]
     },
     "execution_count": 15,
     "metadata": {},
     "output_type": "execute_result"
    },
    {
     "data": {
      "image/png": "[encoded data removed]",
      "text/plain": [
       "<Figure size 432x288 with 1 Axes>"
      ]
     },
     "metadata": {
      "needs_background": "light"
     },
     "output_type": "display_data"
    }
   ],
   "source": [
    "plt.plot([5*i for i in range(len(losshist))], losshist)"
   ]
  },
  {
   "cell_type": "code",
   "execution_count": 34,
   "metadata": {},
   "outputs": [],
   "source": [
    "learning_rates = [0.01, 0.05, 0.3, 0.9]\n",
    "losshistories = []\n",
    "lrates = []\n",
    "for lr in learning_rates:\n",
    "    W2, Whist, losshist = grad_descent(Winit, X, y, 3, lr, 400)\n",
    "    losshistories.append(losshist)\n",
    "    lrates.append(lr)"
   ]
  },
  {
   "cell_type": "code",
   "execution_count": 35,
   "metadata": {},
   "outputs": [
    {
     "data": {
      "image/png": "[encoded data removed]",
      "text/plain": [
       "<Figure size 1080x288 with 4 Axes>"
      ]
     },
     "metadata": {
      "needs_background": "light"
     },
     "output_type": "display_data"
    }
   ],
   "source": [
    "fig, ax = plt.subplots(figsize=(15,4), nrows=1, ncols=len(lrates))\n",
    "for lr in range(len(losshistories)):\n",
    "    ax[lr].plot([5*i for i in range(len(losshistories[lr]))], losshistories[lr], label=lrates[lr])\n",
    "    ax[lr].legend()"
   ]
  },
  {
   "cell_type": "markdown",
   "metadata": {},
   "source": [
    "# Lets try an n-step learning rate scheduler "
   ]
  },
  {
   "cell_type": "code",
   "execution_count": 36,
   "metadata": {},
   "outputs": [],
   "source": [
    "def grad_descent_lr_scheduler(Wb, inputs, targets, num_classes, lrate_initial, lrate_step, nsteps):\n",
    "    W1 = Wb\n",
    "    Whist = [W1]\n",
    "    losshist = [softmax_xentropy(W1,inputs, targets, num_classes )] \n",
    "    eta = lrate_initial\n",
    "    for i in range(nsteps):\n",
    "        eta = eta/(1 + lrate_step*i) # learning rate\n",
    "        gWb = grad(softmax_xentropy, (0))(W1, inputs, targets, num_classes)\n",
    "        W1 = W1 - eta*gWb\n",
    "        if (i%5 ==0):\n",
    "            Whist.append(W1)\n",
    "            losshist.append(softmax_xentropy(W1, inputs, targets, num_classes))\n",
    "            Whist.append(W1)\n",
    "            losshist.append(softmax_xentropy(W1, inputs, targets, num_classes))\n",
    "    return W1, Whist, losshist"
   ]
  },
  {
   "cell_type": "code",
   "execution_count": 51,
   "metadata": {},
   "outputs": [],
   "source": [
    "initial_lrate = 0.3\n",
    "learning_rate_steps = [0.01, 0.05, 0.1]\n",
    "losshistories = []\n",
    "lrates = []\n",
    "for i in range(len(learning_rate_steps)):\n",
    "    W2, Whist, losshist = grad_descent_lr_scheduler(Winit, X, y, 3, initial_lrate, learning_rate_steps[i], 400)\n",
    "    losshistories.append(losshist)\n",
    "    lrates.append(lr)"
   ]
  },
  {
   "cell_type": "code",
   "execution_count": 52,
   "metadata": {},
   "outputs": [
    {
     "data": {
      "image/png": "[encoded data removed]",
      "text/plain": [
       "<Figure size 1080x288 with 3 Axes>"
      ]
     },
     "metadata": {
      "needs_background": "light"
     },
     "output_type": "display_data"
    }
   ],
   "source": [
    "fig, ax = plt.subplots(figsize=(15,4), nrows=1, ncols=len(learning_rate_steps))\n",
    "for lr in range(len(losshistories)):\n",
    "    plot_label = 'Learning_rate_step: ' + str(learning_rate_steps[lr])\n",
    "    ax[lr].plot([5*i for i in range(len(losshistories[lr]))], losshistories[lr], label=plot_label)\n",
    "    ax[lr].legend()\n",
    "    "
   ]
  },
  {
   "cell_type": "code",
   "execution_count": null,
   "metadata": {},
   "outputs": [],
   "source": []
  },
  {
   "cell_type": "code",
   "execution_count": null,
   "metadata": {},
   "outputs": [],
   "source": []
  },
  {
   "cell_type": "code",
   "execution_count": null,
   "metadata": {},
   "outputs": [],
   "source": []
  }
 ],
 "metadata": {
  "kernelspec": {
   "display_name": "tensorflow",
   "language": "python",
   "name": "tensorflow"
  },
  "language_info": {
   "codemirror_mode": {
    "name": "ipython",
    "version": 3
   },
   "file_extension": ".py",
   "mimetype": "text/x-python",
   "name": "python",
   "nbconvert_exporter": "python",
   "pygments_lexer": "ipython3",
   "version": "3.6.10"
  }
 },
 "nbformat": 4,
 "nbformat_minor": 4
}
