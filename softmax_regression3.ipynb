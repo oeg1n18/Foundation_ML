{
 "cells": [
  {
   "cell_type": "code",
   "execution_count": 161,
   "metadata": {},
   "outputs": [],
   "source": [
    "from sklearn import datasets\n",
    "iris = datasets.load_iris()\n",
    "X = iris.data\n",
    "y = iris.target\n",
    "import numpy as np\n",
    "import matplotlib.pyplot as plt\n",
    "from matplotlib import cm\n",
    "import jax.numpy as jnp\n",
    "from jax import grad\n",
    "from jax import random"
   ]
  },
  {
   "cell_type": "code",
   "execution_count": 162,
   "metadata": {},
   "outputs": [],
   "source": [
    "from sklearn.model_selection import train_test_split\n",
    "X_train, X_test, y_train, y_test = train_test_split(X, y, test_size=0.2, \\\n",
    "random_state=2)\n",
    "\n",
    "X_train = X_train.T\n",
    "X_test = X_test.T"
   ]
  },
  {
   "cell_type": "code",
   "execution_count": 163,
   "metadata": {},
   "outputs": [
    {
     "name": "stdout",
     "output_type": "stream",
     "text": [
      "X_train shape:  (4, 120)\n",
      "Y_train shape:  (120,)\n",
      "X_test shape:  (4, 30)\n",
      "y_test shape:  (30,)\n"
     ]
    }
   ],
   "source": [
    "print('X_train shape: ', np.shape(X_train))\n",
    "print('Y_train shape: ', np.shape(y_train))\n",
    "print('X_test shape: ', np.shape(X_test))\n",
    "print('y_test shape: ', np.shape(y_test))"
   ]
  },
  {
   "cell_type": "code",
   "execution_count": 164,
   "metadata": {},
   "outputs": [],
   "source": [
    "def softmax_prob(W, inputs):\n",
    "    # output is datalen-by-C\n",
    "    # inputs is (dim)-by-datalen\n",
    "    # W is C-by-(dim+1)\n",
    "    # Make sure all numerical operations are from JAX, so 'jnp', not 'np'\n",
    "    datalen = jnp.shape(inputs)[1]\n",
    "    c = len(W)# number of classes, C, each class has a bias\n",
    "    inputs = jnp.concatenate((jnp.ones((1,datalen)), inputs), axis=0)\n",
    "    score = jnp.dot(W,inputs)\n",
    "    large = jnp.max(score, axis=0)\n",
    "    large_offset = jnp.dot(np.ones((c, datalen)),jnp.diag(large))\n",
    "    expscore = jnp.exp(score - large_offset)\n",
    "    norm_factor = jnp.diag(1/jnp.sum(expscore, axis=0))\n",
    "    return jnp.dot(expscore, norm_factor).T"
   ]
  },
  {
   "cell_type": "code",
   "execution_count": 165,
   "metadata": {},
   "outputs": [],
   "source": [
    "def softmax_xentropy(Wb, inputs, targets, num_classes):\n",
    "    epsilon = 1e-8\n",
    "    ys = get_one_hot(targets, num_classes)\n",
    "    logprobs = -jnp.log(softmax_prob(Wb, inputs)+epsilon)\n",
    "    return jnp.mean(ys*logprobs)"
   ]
  },
  {
   "cell_type": "code",
   "execution_count": 166,
   "metadata": {},
   "outputs": [],
   "source": [
    "def get_one_hot(targets, num_classes):\n",
    "    res = jnp.eye(num_classes)[jnp.array(targets).reshape(-1)]\n",
    "    return res.reshape(list(targets.shape)+[num_classes])"
   ]
  },
  {
   "cell_type": "code",
   "execution_count": 167,
   "metadata": {},
   "outputs": [],
   "source": [
    "def grad_descent(Wb, inputs, targets, num_classes, lrate, nsteps):\n",
    "    W1 = Wb\n",
    "    Whist = [W1]\n",
    "    losshist = [softmax_xentropy(W1,inputs, targets, num_classes )]\n",
    "    eta = lrate # learning rate\n",
    "    for i in range(nsteps):\n",
    "        gWb = grad(softmax_xentropy, (0))(W1, inputs, targets, num_classes)\n",
    "        W1 = W1 - eta*gWb\n",
    "        if (i%5 ==0):\n",
    "            Whist.append(W1)\n",
    "            losshist.append(softmax_xentropy(W1, inputs, targets, num_classes))\n",
    "    Whist.append(W1)\n",
    "    losshist.append(softmax_xentropy(W1, inputs, targets, num_classes))\n",
    "    return W1, Whist, losshist"
   ]
  },
  {
   "cell_type": "code",
   "execution_count": 170,
   "metadata": {},
   "outputs": [
    {
     "name": "stdout",
     "output_type": "stream",
     "text": [
      "X_train_shape:  (4, 120)\n",
      "Weight shape:  (3, 5)\n",
      "y_train (120,)\n"
     ]
    }
   ],
   "source": [
    "X_train_shape = np.shape(X_train)\n",
    "W = np.random.rand(len(np.unique(y_train)), X_train_shape[0]+1)\n",
    "\n",
    "print('X_train_shape: ', X_train_shape)\n",
    "print('Weight shape: ', np.shape(W) )\n",
    "print('y_train', np.shape(y_train))\n"
   ]
  },
  {
   "cell_type": "code",
   "execution_count": 169,
   "metadata": {},
   "outputs": [],
   "source": [
    "\n",
    "W1, Whist, losshist = grad_descent(W, X_train, y_train, 3, 0.1, 400)"
   ]
  },
  {
   "cell_type": "code",
   "execution_count": 10,
   "metadata": {},
   "outputs": [
    {
     "data": {
      "text/plain": [
       "<matplotlib.legend.Legend at 0x7fa570b66dd8>"
      ]
     },
     "execution_count": 10,
     "metadata": {},
     "output_type": "execute_result"
    },
    {
     "data": {
      "image/png": "[encoded data removed]",
      "text/plain": [
       "<Figure size 432x288 with 1 Axes>"
      ]
     },
     "metadata": {
      "needs_background": "light"
     },
     "output_type": "display_data"
    }
   ],
   "source": [
    "plt.plot(np.arange(len(losshist)), losshist, label='Grad descent on iris dataset')\n",
    "plt.legend()"
   ]
  },
  {
   "cell_type": "markdown",
   "metadata": {},
   "source": [
    "# Now to test xentropy on test set "
   ]
  },
  {
   "cell_type": "code",
   "execution_count": 11,
   "metadata": {},
   "outputs": [
    {
     "name": "stdout",
     "output_type": "stream",
     "text": [
      " train entropy:  0.1059579\n",
      " test entropy:  0.09449384\n"
     ]
    }
   ],
   "source": [
    "print(' train entropy: ', softmax_xentropy(W1, X_train, y_train, 3))\n",
    "print(' test entropy: ', softmax_xentropy(W1, X_test, y_test, 3))"
   ]
  },
  {
   "cell_type": "markdown",
   "metadata": {},
   "source": [
    "This method actualy performs better on the test set than the training set. "
   ]
  },
  {
   "cell_type": "markdown",
   "metadata": {},
   "source": [
    "# Lets try cross validation\n",
    "1. create a function that splits the data into N training and test sets\n",
    "2. Train them \n",
    "3. calculate cross entropy \n",
    "4. add all the xentropy together and average "
   ]
  },
  {
   "cell_type": "code",
   "execution_count": 179,
   "metadata": {},
   "outputs": [],
   "source": [
    "\n",
    "num_classes = 3"
   ]
  },
  {
   "cell_type": "code",
   "execution_count": 180,
   "metadata": {},
   "outputs": [],
   "source": [
    "\n"
   ]
  },
  {
   "cell_type": "code",
   "execution_count": 186,
   "metadata": {},
   "outputs": [],
   "source": [
    "from sklearn.model_selection import KFold\n",
    "\n",
    "X = iris.data\n",
    "y = iris.target\n",
    "\n",
    "def get_cross_entropy(X, y, folds, steps):\n",
    "    kf = KFold(n_splits=10, shuffle=True, random_state=None)\n",
    "    all_entropy = np.array([])\n",
    "    W = np.random.rand(3, 5)\n",
    "    \n",
    "    for train_index, test_index in kf.split(X):\n",
    "        X_train, X_test = X[train_index], X[test_index]\n",
    "        y_train, y_test = y[train_index], y[test_index]\n",
    "        W1, Whist, losshist = grad_descent(W, X_train.T, y_train, 3, 0.1, steps)\n",
    "        ent = softmax_xentropy(W1, X_test.T, y_test, 3)\n",
    "        all_entropy = np.append(all_entropy, ent)\n",
    "    return all_entropy\n",
    "    \n",
    "\n",
    "    \n",
    "Xentropy = get_cross_entropy(X, y, 10, 200)  \n",
    "    \n",
    "    \n"
   ]
  },
  {
   "cell_type": "code",
   "execution_count": 188,
   "metadata": {},
   "outputs": [
    {
     "name": "stdout",
     "output_type": "stream",
     "text": [
      "[0.1231004  0.15523604 0.14825834 0.11274483 0.16477706 0.12483627\n",
      " 0.11901793 0.1379946  0.1821124  0.14137682]\n"
     ]
    }
   ],
   "source": []
  },
  {
   "cell_type": "code",
   "execution_count": 207,
   "metadata": {},
   "outputs": [
    {
     "name": "stdout",
     "output_type": "stream",
     "text": [
      "our model mean log loss 0.1409454680979252\n",
      "scikit learns mean log loss 0.3205954991218555\n",
      "It looks like ours is much better\n"
     ]
    },
    {
     "name": "stderr",
     "output_type": "stream",
     "text": [
      "/Users/olivergrainge/opt/anaconda3/envs/tensorflow/lib/python3.6/site-packages/sklearn/linear_model/logistic.py:432: FutureWarning: Default solver will be changed to 'lbfgs' in 0.22. Specify a solver to silence this warning.\n",
      "  FutureWarning)\n",
      "/Users/olivergrainge/opt/anaconda3/envs/tensorflow/lib/python3.6/site-packages/sklearn/linear_model/logistic.py:469: FutureWarning: Default multi_class will be changed to 'auto' in 0.22. Specify the multi_class option to silence this warning.\n",
      "  \"this warning.\", FutureWarning)\n",
      "/Users/olivergrainge/opt/anaconda3/envs/tensorflow/lib/python3.6/site-packages/sklearn/linear_model/logistic.py:432: FutureWarning: Default solver will be changed to 'lbfgs' in 0.22. Specify a solver to silence this warning.\n",
      "  FutureWarning)\n",
      "/Users/olivergrainge/opt/anaconda3/envs/tensorflow/lib/python3.6/site-packages/sklearn/linear_model/logistic.py:469: FutureWarning: Default multi_class will be changed to 'auto' in 0.22. Specify the multi_class option to silence this warning.\n",
      "  \"this warning.\", FutureWarning)\n",
      "/Users/olivergrainge/opt/anaconda3/envs/tensorflow/lib/python3.6/site-packages/sklearn/linear_model/logistic.py:432: FutureWarning: Default solver will be changed to 'lbfgs' in 0.22. Specify a solver to silence this warning.\n",
      "  FutureWarning)\n",
      "/Users/olivergrainge/opt/anaconda3/envs/tensorflow/lib/python3.6/site-packages/sklearn/linear_model/logistic.py:469: FutureWarning: Default multi_class will be changed to 'auto' in 0.22. Specify the multi_class option to silence this warning.\n",
      "  \"this warning.\", FutureWarning)\n",
      "/Users/olivergrainge/opt/anaconda3/envs/tensorflow/lib/python3.6/site-packages/sklearn/linear_model/logistic.py:432: FutureWarning: Default solver will be changed to 'lbfgs' in 0.22. Specify a solver to silence this warning.\n",
      "  FutureWarning)\n",
      "/Users/olivergrainge/opt/anaconda3/envs/tensorflow/lib/python3.6/site-packages/sklearn/linear_model/logistic.py:469: FutureWarning: Default multi_class will be changed to 'auto' in 0.22. Specify the multi_class option to silence this warning.\n",
      "  \"this warning.\", FutureWarning)\n",
      "/Users/olivergrainge/opt/anaconda3/envs/tensorflow/lib/python3.6/site-packages/sklearn/linear_model/logistic.py:432: FutureWarning: Default solver will be changed to 'lbfgs' in 0.22. Specify a solver to silence this warning.\n",
      "  FutureWarning)\n",
      "/Users/olivergrainge/opt/anaconda3/envs/tensorflow/lib/python3.6/site-packages/sklearn/linear_model/logistic.py:469: FutureWarning: Default multi_class will be changed to 'auto' in 0.22. Specify the multi_class option to silence this warning.\n",
      "  \"this warning.\", FutureWarning)\n",
      "/Users/olivergrainge/opt/anaconda3/envs/tensorflow/lib/python3.6/site-packages/sklearn/linear_model/logistic.py:432: FutureWarning: Default solver will be changed to 'lbfgs' in 0.22. Specify a solver to silence this warning.\n",
      "  FutureWarning)\n",
      "/Users/olivergrainge/opt/anaconda3/envs/tensorflow/lib/python3.6/site-packages/sklearn/linear_model/logistic.py:469: FutureWarning: Default multi_class will be changed to 'auto' in 0.22. Specify the multi_class option to silence this warning.\n",
      "  \"this warning.\", FutureWarning)\n",
      "/Users/olivergrainge/opt/anaconda3/envs/tensorflow/lib/python3.6/site-packages/sklearn/linear_model/logistic.py:432: FutureWarning: Default solver will be changed to 'lbfgs' in 0.22. Specify a solver to silence this warning.\n",
      "  FutureWarning)\n",
      "/Users/olivergrainge/opt/anaconda3/envs/tensorflow/lib/python3.6/site-packages/sklearn/linear_model/logistic.py:469: FutureWarning: Default multi_class will be changed to 'auto' in 0.22. Specify the multi_class option to silence this warning.\n",
      "  \"this warning.\", FutureWarning)\n",
      "/Users/olivergrainge/opt/anaconda3/envs/tensorflow/lib/python3.6/site-packages/sklearn/linear_model/logistic.py:432: FutureWarning: Default solver will be changed to 'lbfgs' in 0.22. Specify a solver to silence this warning.\n",
      "  FutureWarning)\n",
      "/Users/olivergrainge/opt/anaconda3/envs/tensorflow/lib/python3.6/site-packages/sklearn/linear_model/logistic.py:469: FutureWarning: Default multi_class will be changed to 'auto' in 0.22. Specify the multi_class option to silence this warning.\n",
      "  \"this warning.\", FutureWarning)\n",
      "/Users/olivergrainge/opt/anaconda3/envs/tensorflow/lib/python3.6/site-packages/sklearn/linear_model/logistic.py:432: FutureWarning: Default solver will be changed to 'lbfgs' in 0.22. Specify a solver to silence this warning.\n",
      "  FutureWarning)\n",
      "/Users/olivergrainge/opt/anaconda3/envs/tensorflow/lib/python3.6/site-packages/sklearn/linear_model/logistic.py:469: FutureWarning: Default multi_class will be changed to 'auto' in 0.22. Specify the multi_class option to silence this warning.\n",
      "  \"this warning.\", FutureWarning)\n",
      "/Users/olivergrainge/opt/anaconda3/envs/tensorflow/lib/python3.6/site-packages/sklearn/linear_model/logistic.py:432: FutureWarning: Default solver will be changed to 'lbfgs' in 0.22. Specify a solver to silence this warning.\n",
      "  FutureWarning)\n",
      "/Users/olivergrainge/opt/anaconda3/envs/tensorflow/lib/python3.6/site-packages/sklearn/linear_model/logistic.py:469: FutureWarning: Default multi_class will be changed to 'auto' in 0.22. Specify the multi_class option to silence this warning.\n",
      "  \"this warning.\", FutureWarning)\n",
      "/Users/olivergrainge/opt/anaconda3/envs/tensorflow/lib/python3.6/site-packages/sklearn/linear_model/logistic.py:432: FutureWarning: Default solver will be changed to 'lbfgs' in 0.22. Specify a solver to silence this warning.\n",
      "  FutureWarning)\n",
      "/Users/olivergrainge/opt/anaconda3/envs/tensorflow/lib/python3.6/site-packages/sklearn/linear_model/logistic.py:469: FutureWarning: Default multi_class will be changed to 'auto' in 0.22. Specify the multi_class option to silence this warning.\n",
      "  \"this warning.\", FutureWarning)\n"
     ]
    }
   ],
   "source": [
    "from sklearn.linear_model import LogisticRegression\n",
    "from sklearn.datasets import load_iris\n",
    "from sklearn.model_selection import cross_val_score\n",
    "\n",
    "X, y = load_iris(return_X_y=True)\n",
    "clf = LogisticRegression(random_state=0).fit(X, y)\n",
    "\n",
    "\n",
    "scores = cross_val_score(clf, X, y, cv=10, scoring='neg_log_loss')\n",
    "print('our model mean log loss', np.mean(Xentropy))\n",
    "print('scikit learns mean log loss', np.mean(abs(scores)))\n",
    "\n",
    "print('It looks like ours is much better')\n"
   ]
  },
  {
   "cell_type": "markdown",
   "metadata": {},
   "source": []
  },
  {
   "cell_type": "code",
   "execution_count": 212,
   "metadata": {},
   "outputs": [
    {
     "data": {
      "text/plain": [
       "array([1, 2, 3])"
      ]
     },
     "execution_count": 212,
     "metadata": {},
     "output_type": "execute_result"
    }
   ],
   "source": [
    "import matplotlib.pyplot as plt\n",
    "base = np.arange(3)+1\n",
    "base"
   ]
  },
  {
   "cell_type": "code",
   "execution_count": 216,
   "metadata": {},
   "outputs": [],
   "source": [
    "W1, Whist, losshist = grad_descent(W, X.T, y, 3, 0.1, 400)       "
   ]
  },
  {
   "cell_type": "code",
   "execution_count": 231,
   "metadata": {},
   "outputs": [
    {
     "data": {
      "image/png": "[encoded data removed]",
      "text/plain": [
       "<Figure size 432x288 with 1 Axes>"
      ]
     },
     "metadata": {
      "needs_background": "light"
     },
     "output_type": "display_data"
    }
   ],
   "source": [
    "for i in range(10):\n",
    "    arr = softmax_prob(W1, X[i:i+1].T)\n",
    "    plt.scatter(base, arr[1])"
   ]
  },
  {
   "cell_type": "code",
   "execution_count": null,
   "metadata": {},
   "outputs": [],
   "source": []
  }
 ],
 "metadata": {
  "kernelspec": {
   "display_name": "tensorflow",
   "language": "python",
   "name": "tensorflow"
  },
  "language_info": {
   "codemirror_mode": {
    "name": "ipython",
    "version": 3
   },
   "file_extension": ".py",
   "mimetype": "text/x-python",
   "name": "python",
   "nbconvert_exporter": "python",
   "pygments_lexer": "ipython3",
   "version": "3.6.10"
  }
 },
 "nbformat": 4,
 "nbformat_minor": 4
}
